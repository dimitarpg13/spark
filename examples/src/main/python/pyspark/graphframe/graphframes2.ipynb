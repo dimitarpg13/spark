{
 "cells": [
  {
   "cell_type": "code",
   "execution_count": null,
   "id": "4892f9a8",
   "metadata": {},
   "outputs": [],
   "source": [
    "from functools import reduce\n",
    "from pyspark.sql.functions import col, lit, when\n",
    "from graphframes import *\n"
   ]
  },
  {
   "cell_type": "code",
   "execution_count": null,
   "id": "cf749229",
   "metadata": {},
   "outputs": [],
   "source": [
    "vertices = sqlContext.createDataFrame([\n",
    "  (\"a\", \"Alice\", 34),\n",
    "  (\"b\", \"Bob\", 36),\n",
    "  (\"c\", \"Charlie\", 30),\n",
    "  (\"d\", \"David\", 29),\n",
    "  (\"e\", \"Esther\", 32),\n",
    "  (\"f\", \"Fanny\", 36),\n",
    "  (\"g\", \"Gabby\", 60)], [\"id\", \"name\", \"age\"])"
   ]
  },
  {
   "cell_type": "code",
   "execution_count": null,
   "id": "0744c9ea",
   "metadata": {},
   "outputs": [],
   "source": [
    "edges = sqlContext.createDataFrame([\n",
    "  (\"a\", \"b\", \"friend\"),\n",
    "  (\"b\", \"c\", \"follow\"),\n",
    "  (\"c\", \"b\", \"follow\"),\n",
    "  (\"f\", \"c\", \"follow\"),\n",
    "  (\"e\", \"f\", \"follow\"),\n",
    "  (\"e\", \"d\", \"friend\"),\n",
    "  (\"d\", \"a\", \"friend\"),\n",
    "  (\"a\", \"e\", \"friend\")\n",
    "], [\"src\", \"dst\", \"relationship\"])"
   ]
  },
  {
   "cell_type": "code",
   "execution_count": null,
   "id": "3ebbe385",
   "metadata": {},
   "outputs": [],
   "source": [
    "g = GraphFrame(vertices, edges)\n",
    "print(g)"
   ]
  },
  {
   "cell_type": "code",
   "execution_count": null,
   "id": "5635d660",
   "metadata": {},
   "outputs": [],
   "source": [
    "from graphframes.examples import Graphs\n",
    "same_g = Graphs(sqlContext).friends()\n",
    "print(same_g)"
   ]
  },
  {
   "cell_type": "markdown",
   "id": "5b9e01d6",
   "metadata": {},
   "source": [
    "# Basic graph and DataFrame queries\n",
    "\n",
    "GraphFrames provide several simple graph queries, such as node degree.\n",
    "\n",
    "GraphFrames represent graphs as pairs of vertex and edge DataFrames which enables querying directly on the vertex and edge DataFrames. Those DataFrames are available as vertices and edge fields in the GraphFrame.\n"
   ]
  },
  {
   "cell_type": "code",
   "execution_count": null,
   "id": "cccf747a",
   "metadata": {},
   "outputs": [],
   "source": [
    "g.vertices.show()"
   ]
  },
  {
   "cell_type": "code",
   "execution_count": null,
   "id": "339b8064",
   "metadata": {},
   "outputs": [],
   "source": [
    "vertices.show()"
   ]
  },
  {
   "cell_type": "code",
   "execution_count": null,
   "id": "ee60eeaf",
   "metadata": {},
   "outputs": [],
   "source": [
    "g.edges.show()"
   ]
  },
  {
   "cell_type": "markdown",
   "id": "fb70f572",
   "metadata": {},
   "source": [
    "The incoming degree of the vertices:\n",
    "    "
   ]
  },
  {
   "cell_type": "code",
   "execution_count": null,
   "id": "11f99d58",
   "metadata": {},
   "outputs": [],
   "source": [
    "g.inDegrees.show()"
   ]
  },
  {
   "cell_type": "markdown",
   "id": "8113fdd4",
   "metadata": {},
   "source": [
    "The outgoing degree of the vertices:"
   ]
  },
  {
   "cell_type": "code",
   "execution_count": null,
   "id": "7020879e",
   "metadata": {},
   "outputs": [],
   "source": [
    "g.outDegrees.show()"
   ]
  },
  {
   "cell_type": "code",
   "execution_count": null,
   "id": "f57ab6ef",
   "metadata": {},
   "outputs": [],
   "source": [
    "g.degrees.show()"
   ]
  },
  {
   "cell_type": "markdown",
   "id": "8079e3cd",
   "metadata": {},
   "source": [
    "Running queries directly on the `vertices` DataFrame. For example, we can find the age of the youngest person in the graph: "
   ]
  },
  {
   "cell_type": "code",
   "execution_count": null,
   "id": "34c107bf",
   "metadata": {},
   "outputs": [],
   "source": [
    "youngest = g.vertices.groupBy().min(\"age\")\n",
    "youngest.show()"
   ]
  },
  {
   "cell_type": "markdown",
   "id": "7e8a6677",
   "metadata": {},
   "source": [
    "Likewise, we can query the `edges` DataFrame. For example, let's count the number of _follow_ relationships in the graph:"
   ]
  },
  {
   "cell_type": "code",
   "execution_count": null,
   "id": "891c466c",
   "metadata": {},
   "outputs": [],
   "source": [
    "numFollows = g.edges.filter(\"relationship = 'follow'\").count()\n",
    "print(\"The number of follow edges is\", numFollows)"
   ]
  },
  {
   "cell_type": "markdown",
   "id": "f0539840",
   "metadata": {},
   "source": [
    "# Motif finding\n",
    "\n",
    "Using motifs allows us to build more complex relationships involving edges and vertices. The following cell finds the pairs of vertices with edges in both directions between them. The result is a DataFrame, in which the column names are given by the motif keys."
   ]
  },
  {
   "cell_type": "code",
   "execution_count": null,
   "id": "439c9897",
   "metadata": {},
   "outputs": [],
   "source": [
    "# search for pairs of vertices with edges in both directions between them.\n",
    "motifs = g.find(\"(a)-[e]->(b); (b)-[e2]->(a)\")\n",
    "motifs.show()"
   ]
  },
  {
   "cell_type": "markdown",
   "id": "f1bfa347",
   "metadata": {},
   "source": [
    "Since the result is a `DataFrame`, more complex queries can be built on top of the motif. Let us find all the reciprocal relationships in which one person is older than 30:"
   ]
  },
  {
   "cell_type": "code",
   "execution_count": null,
   "id": "46c1fe23",
   "metadata": {},
   "outputs": [],
   "source": [
    "filtered = motifs.filter(\"b.age > 30 or a.age > 30\")\n",
    "filtered.show()"
   ]
  },
  {
   "cell_type": "markdown",
   "id": "444f631d",
   "metadata": {},
   "source": [
    "## Stateful queries\n",
    "\n",
    "Most motif queries are stateless and simple to express. We will look into a more complex query that carries state along a path in the motif. Such queries can be expressed by combining `GraphFrame` motif finding with filters on the result where the filters use sequence operations to operate over `DataFrame` columns. \n",
    "For example, let us consider a chain of 4 vertices with some property defined by a sequence of functions. That is, among chains of 4 vertices `a->b->c->d`, identify the subset of chains matching this complex filter:\n",
    "\n",
    "* initialize state on the path\n",
    "* update state based on vertex a\n",
    "* update state based on vertex b\n",
    "* update state based on vertex c\n",
    "* update state based on vertex d\n",
    "\n",
    "If final state matches some condition, then the filter accepts the chain. The below code snippets demonstrate this process, where we dienfity chains of 4 vertices such that at least 2 of the 3 edges are \"friend\" relationships. In this example, the satte is the current count of \"friend\" edges; in general, it could be any `DataFrame` Column.\n"
   ]
  },
  {
   "cell_type": "code",
   "execution_count": null,
   "id": "c34c9d39",
   "metadata": {},
   "outputs": [],
   "source": []
  }
 ],
 "metadata": {
  "kernelspec": {
   "display_name": "Python 3 (ipykernel)",
   "language": "python",
   "name": "python3"
  },
  "language_info": {
   "codemirror_mode": {
    "name": "ipython",
    "version": 3
   },
   "file_extension": ".py",
   "mimetype": "text/x-python",
   "name": "python",
   "nbconvert_exporter": "python",
   "pygments_lexer": "ipython3",
   "version": "3.9.6"
  }
 },
 "nbformat": 4,
 "nbformat_minor": 5
}
