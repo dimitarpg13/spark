{
 "cells": [
  {
   "cell_type": "code",
   "execution_count": 1,
   "id": "c9890b29",
   "metadata": {},
   "outputs": [],
   "source": [
    "from functools import reduce\n",
    "from pyspark.sql.functions import col, lit, when\n",
    "from graphframes import *\n"
   ]
  },
  {
   "cell_type": "code",
   "execution_count": 2,
   "id": "d9337e6f",
   "metadata": {},
   "outputs": [],
   "source": [
    "vertices = sqlContext.createDataFrame([\n",
    "  (\"a\", \"Alice\", 34),\n",
    "  (\"b\", \"Bob\", 36),\n",
    "  (\"c\", \"Charlie\", 30),\n",
    "  (\"d\", \"David\", 29),\n",
    "  (\"e\", \"Esther\", 32),\n",
    "  (\"f\", \"Fanny\", 36),\n",
    "  (\"g\", \"Gabby\", 60)], [\"id\", \"name\", \"age\"])"
   ]
  },
  {
   "cell_type": "code",
   "execution_count": 3,
   "id": "b4e7b46a",
   "metadata": {},
   "outputs": [],
   "source": [
    "edges = sqlContext.createDataFrame([\n",
    "  (\"a\", \"b\", \"friend\"),\n",
    "  (\"b\", \"c\", \"follow\"),\n",
    "  (\"c\", \"b\", \"follow\"),\n",
    "  (\"f\", \"c\", \"follow\"),\n",
    "  (\"e\", \"f\", \"follow\"),\n",
    "  (\"e\", \"d\", \"friend\"),\n",
    "  (\"d\", \"a\", \"friend\"),\n",
    "  (\"a\", \"e\", \"friend\")\n",
    "], [\"src\", \"dst\", \"relationship\"])"
   ]
  },
  {
   "cell_type": "code",
   "execution_count": 4,
   "id": "280c3e74",
   "metadata": {},
   "outputs": [
    {
     "name": "stdout",
     "output_type": "stream",
     "text": [
      "GraphFrame(v:[id: string, name: string ... 1 more field], e:[src: string, dst: string ... 1 more field])\n"
     ]
    }
   ],
   "source": [
    "g = GraphFrame(vertices, edges)\n",
    "print(g)"
   ]
  },
  {
   "cell_type": "code",
   "execution_count": 5,
   "id": "4c6f7174",
   "metadata": {},
   "outputs": [
    {
     "name": "stdout",
     "output_type": "stream",
     "text": [
      "GraphFrame(v:[id: string, name: string ... 1 more field], e:[src: string, dst: string ... 1 more field])\n"
     ]
    }
   ],
   "source": [
    "from graphframes.examples import Graphs\n",
    "same_g = Graphs(sqlContext).friends()\n",
    "print(same_g)"
   ]
  },
  {
   "cell_type": "markdown",
   "id": "b38eb7de",
   "metadata": {},
   "source": [
    "# Basic graph and DataFrame queries\n",
    "\n",
    "GraphFrames provide several simple graph queries, such as node degree.\n",
    "\n",
    "GraphFrames represent graphs as pairs of vertex and edge DataFrames which enables querying directly on the vertex and edge DataFrames. Those DataFrames are available as vertices and edge fields in the GraphFrame.\n"
   ]
  },
  {
   "cell_type": "code",
   "execution_count": 6,
   "id": "9c016e4d",
   "metadata": {},
   "outputs": [
    {
     "name": "stderr",
     "output_type": "stream",
     "text": [
      "                                                                                \r"
     ]
    },
    {
     "name": "stdout",
     "output_type": "stream",
     "text": [
      "+---+-------+---+\n",
      "| id|   name|age|\n",
      "+---+-------+---+\n",
      "|  a|  Alice| 34|\n",
      "|  b|    Bob| 36|\n",
      "|  c|Charlie| 30|\n",
      "|  d|  David| 29|\n",
      "|  e| Esther| 32|\n",
      "|  f|  Fanny| 36|\n",
      "|  g|  Gabby| 60|\n",
      "+---+-------+---+\n",
      "\n"
     ]
    }
   ],
   "source": [
    "g.vertices.show()"
   ]
  },
  {
   "cell_type": "code",
   "execution_count": 7,
   "id": "a5741caf",
   "metadata": {},
   "outputs": [
    {
     "name": "stdout",
     "output_type": "stream",
     "text": [
      "+---+-------+---+\n",
      "| id|   name|age|\n",
      "+---+-------+---+\n",
      "|  a|  Alice| 34|\n",
      "|  b|    Bob| 36|\n",
      "|  c|Charlie| 30|\n",
      "|  d|  David| 29|\n",
      "|  e| Esther| 32|\n",
      "|  f|  Fanny| 36|\n",
      "|  g|  Gabby| 60|\n",
      "+---+-------+---+\n",
      "\n"
     ]
    }
   ],
   "source": [
    "vertices.show()"
   ]
  },
  {
   "cell_type": "code",
   "execution_count": 8,
   "id": "7acfed3e",
   "metadata": {},
   "outputs": [
    {
     "name": "stdout",
     "output_type": "stream",
     "text": [
      "+---+---+------------+\n",
      "|src|dst|relationship|\n",
      "+---+---+------------+\n",
      "|  a|  b|      friend|\n",
      "|  b|  c|      follow|\n",
      "|  c|  b|      follow|\n",
      "|  f|  c|      follow|\n",
      "|  e|  f|      follow|\n",
      "|  e|  d|      friend|\n",
      "|  d|  a|      friend|\n",
      "|  a|  e|      friend|\n",
      "+---+---+------------+\n",
      "\n"
     ]
    }
   ],
   "source": [
    "g.edges.show()"
   ]
  },
  {
   "cell_type": "markdown",
   "id": "c8e21aa6",
   "metadata": {},
   "source": [
    "The incoming degree of the vertices:\n",
    "    "
   ]
  },
  {
   "cell_type": "code",
   "execution_count": 9,
   "id": "f68702bc",
   "metadata": {},
   "outputs": [
    {
     "name": "stdout",
     "output_type": "stream",
     "text": [
      "+---+--------+\n",
      "| id|inDegree|\n",
      "+---+--------+\n",
      "|  b|       2|\n",
      "|  c|       2|\n",
      "|  f|       1|\n",
      "|  d|       1|\n",
      "|  a|       1|\n",
      "|  e|       1|\n",
      "+---+--------+\n",
      "\n"
     ]
    }
   ],
   "source": [
    "g.inDegrees.show()"
   ]
  },
  {
   "cell_type": "markdown",
   "id": "99a33ad9",
   "metadata": {},
   "source": [
    "The outgoing degree of the vertices:"
   ]
  },
  {
   "cell_type": "code",
   "execution_count": 10,
   "id": "ac8bc35a",
   "metadata": {},
   "outputs": [
    {
     "name": "stdout",
     "output_type": "stream",
     "text": [
      "+---+---------+\n",
      "| id|outDegree|\n",
      "+---+---------+\n",
      "|  a|        2|\n",
      "|  b|        1|\n",
      "|  c|        1|\n",
      "|  f|        1|\n",
      "|  e|        2|\n",
      "|  d|        1|\n",
      "+---+---------+\n",
      "\n"
     ]
    }
   ],
   "source": [
    "g.outDegrees.show()"
   ]
  },
  {
   "cell_type": "code",
   "execution_count": 11,
   "id": "d608a2f4",
   "metadata": {},
   "outputs": [
    {
     "name": "stdout",
     "output_type": "stream",
     "text": [
      "+---+------+\n",
      "| id|degree|\n",
      "+---+------+\n",
      "|  b|     3|\n",
      "|  a|     3|\n",
      "|  c|     3|\n",
      "|  f|     2|\n",
      "|  e|     3|\n",
      "|  d|     2|\n",
      "+---+------+\n",
      "\n"
     ]
    }
   ],
   "source": [
    "g.degrees.show()"
   ]
  },
  {
   "cell_type": "markdown",
   "id": "a055d9c7",
   "metadata": {},
   "source": [
    "Running queries directly on the `vertices` DataFrame. For example, we can find the age of the youngest person in the graph: "
   ]
  },
  {
   "cell_type": "code",
   "execution_count": 12,
   "id": "50e7d0b5",
   "metadata": {},
   "outputs": [
    {
     "name": "stdout",
     "output_type": "stream",
     "text": [
      "+--------+\n",
      "|min(age)|\n",
      "+--------+\n",
      "|      29|\n",
      "+--------+\n",
      "\n"
     ]
    }
   ],
   "source": [
    "youngest = g.vertices.groupBy().min(\"age\")\n",
    "youngest.show()"
   ]
  },
  {
   "cell_type": "code",
   "execution_count": null,
   "id": "4f987a48",
   "metadata": {},
   "outputs": [],
   "source": []
  }
 ],
 "metadata": {
  "kernelspec": {
   "display_name": "Python 3 (ipykernel)",
   "language": "python",
   "name": "python3"
  },
  "language_info": {
   "codemirror_mode": {
    "name": "ipython",
    "version": 3
   },
   "file_extension": ".py",
   "mimetype": "text/x-python",
   "name": "python",
   "nbconvert_exporter": "python",
   "pygments_lexer": "ipython3",
   "version": "3.9.6"
  }
 },
 "nbformat": 4,
 "nbformat_minor": 5
}
