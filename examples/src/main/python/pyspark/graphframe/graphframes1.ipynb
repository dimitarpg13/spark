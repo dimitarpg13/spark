{
 "cells": [
  {
   "cell_type": "markdown",
   "id": "eed28c39",
   "metadata": {},
   "source": [
    "# Introduction into GraphFrames"
   ]
  },
  {
   "cell_type": "markdown",
   "id": "5200b693",
   "metadata": {},
   "source": [
    "Starting with initializing a SparkSession:"
   ]
  },
  {
   "cell_type": "code",
   "execution_count": 1,
   "id": "4718df09-94b5-409b-ae5e-74da9224565e",
   "metadata": {},
   "outputs": [
    {
     "name": "stderr",
     "output_type": "stream",
     "text": [
      "23/12/12 22:54:33 WARN SparkSession: Using an existing Spark session; only runtime SQL configurations will take effect.\n"
     ]
    }
   ],
   "source": [
    "import os\n",
    "from pyspark import SQLContext, SparkContext, SparkConf\n",
    "\n",
    "appName = \"rdd programming guide\"\n",
    "master = \"local[1]\"\n",
    "conf = SparkConf().setAppName(appName).setMaster(master)\n",
    "#sc = SparkContext.getOrCreate(conf=conf)\n",
    "#sqlContext = SQLContext.getOrCreate(sc)\n",
    "sc = SparkSession.builder.config(conf=conf).getOrCreate()\n",
    "sqlContext = sc"
   ]
  },
  {
   "cell_type": "markdown",
   "id": "012e43a7",
   "metadata": {},
   "source": [
    "Load a json file into a DataFrame"
   ]
  },
  {
   "cell_type": "code",
   "execution_count": 2,
   "id": "2ea40e33-7956-496e-9285-fd582e00c982",
   "metadata": {},
   "outputs": [],
   "source": [
    "spark_home = os.environ.get('SPARK_HOME')\n",
    "df = sqlContext.read.json(spark_home + \"/examples/src/main/resources/people.json\")"
   ]
  },
  {
   "cell_type": "code",
   "execution_count": 3,
   "id": "12224050-a3af-48e2-9ae9-5e19b5a4249d",
   "metadata": {},
   "outputs": [
    {
     "data": {
      "text/plain": [
       "DataFrame[age: bigint, name: string]"
      ]
     },
     "metadata": {},
     "output_type": "display_data"
    }
   ],
   "source": [
    "display(df)"
   ]
  },
  {
   "cell_type": "code",
   "execution_count": 4,
   "id": "06173ae7-e13c-43e9-a041-92f4befdc6ba",
   "metadata": {},
   "outputs": [
    {
     "data": {
      "text/plain": [
       "pyspark.sql.dataframe.DataFrame"
      ]
     },
     "execution_count": 4,
     "metadata": {},
     "output_type": "execute_result"
    }
   ],
   "source": [
    "type(df)"
   ]
  },
  {
   "cell_type": "code",
   "execution_count": 5,
   "id": "99d341b0-ef36-43b9-9857-227c9f7aea83",
   "metadata": {},
   "outputs": [
    {
     "name": "stdout",
     "output_type": "stream",
     "text": [
      "+----+-------+\n",
      "| age|   name|\n",
      "+----+-------+\n",
      "|NULL|Michael|\n",
      "|  30|   Andy|\n",
      "|  19| Justin|\n",
      "+----+-------+\n",
      "\n"
     ]
    }
   ],
   "source": [
    "df.show(n=4)"
   ]
  },
  {
   "cell_type": "markdown",
   "id": "83430b19",
   "metadata": {},
   "source": [
    "Create a Vertex dataframe with unique ID column \"id\": "
   ]
  },
  {
   "cell_type": "code",
   "execution_count": 6,
   "id": "273c4aa8-adc3-4001-a21e-45f00cd9ed4b",
   "metadata": {},
   "outputs": [],
   "source": [
    "v = sqlContext.createDataFrame([\n",
    "  (\"a\", \"Alice\", 34),\n",
    "  (\"b\", \"Bob\", 36),\n",
    "  (\"c\", \"Charlie\", 30),\n",
    "], [\"id\", \"name\", \"age\"])"
   ]
  },
  {
   "cell_type": "code",
   "execution_count": 7,
   "id": "c006ba75-7de1-4ba8-97aa-4f526f53f31a",
   "metadata": {},
   "outputs": [
    {
     "name": "stdout",
     "output_type": "stream",
     "text": [
      "+---+-------+---+\n",
      "| id|   name|age|\n",
      "+---+-------+---+\n",
      "|  a|  Alice| 34|\n",
      "|  b|    Bob| 36|\n",
      "|  c|Charlie| 30|\n",
      "+---+-------+---+\n",
      "\n"
     ]
    },
    {
     "name": "stderr",
     "output_type": "stream",
     "text": [
      "\r",
      "[Stage 2:>                                                          (0 + 1) / 1]\r",
      "\r",
      "                                                                                \r"
     ]
    }
   ],
   "source": [
    "v.show(n=4)"
   ]
  },
  {
   "cell_type": "markdown",
   "id": "02b2e43b",
   "metadata": {},
   "source": [
    "Create an Edge dataframe with \"src\" and \"dst\" columns"
   ]
  },
  {
   "cell_type": "code",
   "execution_count": 8,
   "id": "6cb7d454",
   "metadata": {},
   "outputs": [],
   "source": [
    "e = sqlContext.createDataFrame([\n",
    "  (\"a\", \"b\", \"friend\"),\n",
    "  (\"b\", \"c\", \"follow\"),\n",
    "  (\"c\", \"b\", \"follow\"),\n",
    "], [\"src\", \"dst\", \"relationship\"])"
   ]
  },
  {
   "cell_type": "code",
   "execution_count": 9,
   "id": "af02729f",
   "metadata": {},
   "outputs": [
    {
     "name": "stdout",
     "output_type": "stream",
     "text": [
      "+---+---+------------+\n",
      "|src|dst|relationship|\n",
      "+---+---+------------+\n",
      "|  a|  b|      friend|\n",
      "|  b|  c|      follow|\n",
      "|  c|  b|      follow|\n",
      "+---+---+------------+\n",
      "\n"
     ]
    }
   ],
   "source": [
    "e.show(n=4)"
   ]
  },
  {
   "cell_type": "markdown",
   "id": "88a5cec6",
   "metadata": {},
   "source": [
    "Create a graphframe"
   ]
  },
  {
   "cell_type": "code",
   "execution_count": 10,
   "id": "4dce5f76",
   "metadata": {},
   "outputs": [],
   "source": [
    "from graphframes import *\n",
    "g = GraphFrame(v, e)"
   ]
  },
  {
   "cell_type": "markdown",
   "id": "a8cf86af",
   "metadata": {},
   "source": [
    "Query: get in-degree of each vertex"
   ]
  },
  {
   "cell_type": "code",
   "execution_count": 11,
   "id": "6da3781f",
   "metadata": {},
   "outputs": [
    {
     "name": "stdout",
     "output_type": "stream",
     "text": [
      "+---+--------+\n",
      "| id|inDegree|\n",
      "+---+--------+\n",
      "|  b|       2|\n",
      "|  c|       1|\n",
      "+---+--------+\n",
      "\n"
     ]
    }
   ],
   "source": [
    "g.inDegrees.show()"
   ]
  },
  {
   "cell_type": "markdown",
   "id": "688cb635",
   "metadata": {},
   "source": [
    "Query: count the number of follow connections in the graph"
   ]
  },
  {
   "cell_type": "code",
   "execution_count": 12,
   "id": "2b8decf7",
   "metadata": {},
   "outputs": [
    {
     "data": {
      "text/plain": [
       "2"
      ]
     },
     "execution_count": 12,
     "metadata": {},
     "output_type": "execute_result"
    }
   ],
   "source": [
    "g.edges.filter(\"relationship = 'follow'\").count()"
   ]
  },
  {
   "cell_type": "markdown",
   "id": "3a13929a",
   "metadata": {},
   "source": [
    "Run PageRank algorithm and show results"
   ]
  },
  {
   "cell_type": "code",
   "execution_count": 13,
   "id": "12681ecf",
   "metadata": {},
   "outputs": [
    {
     "name": "stdout",
     "output_type": "stream",
     "text": [
      "+---+------------------+\n",
      "| id|          pagerank|\n",
      "+---+------------------+\n",
      "|  c|1.8994109890559092|\n",
      "|  b|1.0905890109440908|\n",
      "|  a|              0.01|\n",
      "+---+------------------+\n",
      "\n"
     ]
    }
   ],
   "source": [
    "results = g.pageRank(resetProbability=0.01, maxIter=20)\n",
    "results.vertices.select(\"id\", \"pagerank\").show()"
   ]
  },
  {
   "cell_type": "markdown",
   "id": "c0209c76",
   "metadata": {},
   "source": [
    "## Creating GraphFrames"
   ]
  },
  {
   "cell_type": "markdown",
   "id": "9d497723",
   "metadata": {},
   "source": [
    "Users can create GraphFrames from vertex and edge DataFrames\n",
    "* _Vertex DataFrame_: A vertex DataFrame should contain a special column named \"id\" which specifies unique IDs for each vertex in the graph\n",
    "* _Edge Dataframe_: An edge DataFrame should contain two special columns: \"src\" (source vertex ID of edge) and \"dst\" (destination vertex ID of edge) \n",
    "\n",
    "Both DataFrames can have arbitrary other columns. Those columns can represent vertex and edge attributes.\n",
    "A GraphFrame can also be constructed from a single DataFrame containing edge information. The vertices will be inferred from the sources and destinations of the edges.\n",
    "\n",
    "The following example demonstrates how to create a GraphFrame from vertex and edge DataFrames"
   ]
  },
  {
   "cell_type": "markdown",
   "id": "3774226a",
   "metadata": {},
   "source": [
    "Vertex DataFrame"
   ]
  },
  {
   "cell_type": "code",
   "execution_count": 14,
   "id": "803385f1",
   "metadata": {},
   "outputs": [],
   "source": [
    "v = sqlContext.createDataFrame([\n",
    "  (\"a\", \"Alice\", 34),\n",
    "  (\"b\", \"Bob\", 36),\n",
    "  (\"c\", \"Charlie\", 30),\n",
    "  (\"d\", \"David\", 29),\n",
    "  (\"e\", \"Esther\", 32),\n",
    "  (\"f\", \"Fanny\", 36),\n",
    "  (\"g\", \"Gabby\", 60)\n",
    "], [\"id\", \"name\", \"age\"])"
   ]
  },
  {
   "cell_type": "markdown",
   "id": "9209052e",
   "metadata": {},
   "source": [
    "Edge DataFrame"
   ]
  },
  {
   "cell_type": "code",
   "execution_count": 15,
   "id": "5e580550",
   "metadata": {},
   "outputs": [],
   "source": [
    "e = sqlContext.createDataFrame([\n",
    "  (\"a\", \"b\", \"friend\"),\n",
    "  (\"b\", \"c\", \"follow\"),\n",
    "  (\"c\", \"b\", \"follow\"),\n",
    "  (\"f\", \"c\", \"follow\"),\n",
    "  (\"e\", \"f\", \"follow\"),\n",
    "  (\"e\", \"d\", \"friend\"),\n",
    "  (\"d\", \"a\", \"friend\"),\n",
    "  (\"a\", \"e\", \"friend\")\n",
    "], [\"src\", \"dst\", \"relationship\"])"
   ]
  },
  {
   "cell_type": "markdown",
   "id": "159ea902",
   "metadata": {},
   "source": [
    "Create GraphFrame"
   ]
  },
  {
   "cell_type": "code",
   "execution_count": 16,
   "id": "15450a4a",
   "metadata": {},
   "outputs": [],
   "source": [
    "g = GraphFrame(v, e)"
   ]
  },
  {
   "cell_type": "markdown",
   "id": "b4f72d76",
   "metadata": {},
   "source": [
    "The GraphFrame constructed above is available in the GraphFrames package:"
   ]
  },
  {
   "cell_type": "code",
   "execution_count": 17,
   "id": "778723c5",
   "metadata": {},
   "outputs": [],
   "source": [
    "from graphframes.examples import Graphs\n",
    "g = Graphs(sqlContext).friends()"
   ]
  },
  {
   "cell_type": "markdown",
   "id": "3313757c",
   "metadata": {},
   "source": [
    "## Basic graph and DataFrame queries"
   ]
  },
  {
   "cell_type": "markdown",
   "id": "3bd5565a",
   "metadata": {},
   "source": [
    "GraphFrames provide several simple graph queries, such as node degree\n",
    "\n",
    "Also, since GraphFrames represent graphs as pairs of vertex and edge DataFrames, it is easy to make powerful queries directly on the vertex and edge DataFrames. Those DataFrames are made available as vertices and edges fields in the GraphFrame."
   ]
  },
  {
   "cell_type": "code",
   "execution_count": 18,
   "id": "ad2ece97",
   "metadata": {},
   "outputs": [],
   "source": [
    "from graphframes.examples import Graphs\n",
    "g = Graphs(sqlContext).friends()  # Get example graph"
   ]
  },
  {
   "cell_type": "markdown",
   "id": "5baf0374",
   "metadata": {},
   "source": [
    "Display the vertex and edge DataFrames"
   ]
  },
  {
   "cell_type": "code",
   "execution_count": 19,
   "id": "b51f8dfd",
   "metadata": {},
   "outputs": [
    {
     "name": "stdout",
     "output_type": "stream",
     "text": [
      "+---+-------+---+\n",
      "| id|   name|age|\n",
      "+---+-------+---+\n",
      "|  a|  Alice| 34|\n",
      "|  b|    Bob| 36|\n",
      "|  c|Charlie| 30|\n",
      "|  d|  David| 29|\n",
      "|  e| Esther| 32|\n",
      "|  f|  Fanny| 36|\n",
      "+---+-------+---+\n",
      "\n"
     ]
    }
   ],
   "source": [
    "g.vertices.show()"
   ]
  },
  {
   "cell_type": "code",
   "execution_count": 20,
   "id": "ae27625c",
   "metadata": {},
   "outputs": [
    {
     "name": "stdout",
     "output_type": "stream",
     "text": [
      "+---+---+------------+\n",
      "|src|dst|relationship|\n",
      "+---+---+------------+\n",
      "|  a|  b|      friend|\n",
      "|  b|  c|      follow|\n",
      "|  c|  b|      follow|\n",
      "|  f|  c|      follow|\n",
      "|  e|  f|      follow|\n",
      "|  e|  d|      friend|\n",
      "|  d|  a|      friend|\n",
      "+---+---+------------+\n",
      "\n"
     ]
    }
   ],
   "source": [
    "g.edges.show()"
   ]
  },
  {
   "cell_type": "markdown",
   "id": "4438cede",
   "metadata": {},
   "source": [
    "Get a DataFrame with columns \"id\" and \"inDegree\" (in-degree)"
   ]
  },
  {
   "cell_type": "code",
   "execution_count": 21,
   "id": "6f11292c",
   "metadata": {},
   "outputs": [],
   "source": [
    "vertexInDegrees = g.inDegrees"
   ]
  },
  {
   "cell_type": "code",
   "execution_count": 22,
   "id": "c21eacf8",
   "metadata": {},
   "outputs": [
    {
     "name": "stdout",
     "output_type": "stream",
     "text": [
      "+---+--------+\n",
      "| id|inDegree|\n",
      "+---+--------+\n",
      "|  b|       2|\n",
      "|  c|       2|\n",
      "|  f|       1|\n",
      "|  d|       1|\n",
      "|  a|       1|\n",
      "+---+--------+\n",
      "\n"
     ]
    }
   ],
   "source": [
    "vertexInDegrees.show()"
   ]
  },
  {
   "cell_type": "markdown",
   "id": "1d31f33a",
   "metadata": {},
   "source": [
    "Find the youngest user's age in teh graph.\n",
    "This queries the vertex DataFrame"
   ]
  },
  {
   "cell_type": "code",
   "execution_count": 23,
   "id": "8961f378",
   "metadata": {},
   "outputs": [
    {
     "name": "stdout",
     "output_type": "stream",
     "text": [
      "+--------+\n",
      "|min(age)|\n",
      "+--------+\n",
      "|      29|\n",
      "+--------+\n",
      "\n"
     ]
    }
   ],
   "source": [
    "g.vertices.groupBy().min(\"age\").show()"
   ]
  },
  {
   "cell_type": "markdown",
   "id": "04ad8f67",
   "metadata": {},
   "source": [
    "Count the number of \"follows\" in the graph.\n",
    "This queries the edge DataFrame"
   ]
  },
  {
   "cell_type": "code",
   "execution_count": 24,
   "id": "e4c3ea4c",
   "metadata": {},
   "outputs": [],
   "source": [
    "numFollows = g.edges.filter(\"relationship = 'follow'\").count()"
   ]
  },
  {
   "cell_type": "code",
   "execution_count": 25,
   "id": "adcefec1",
   "metadata": {},
   "outputs": [
    {
     "name": "stdout",
     "output_type": "stream",
     "text": [
      "numFollows=4\n"
     ]
    }
   ],
   "source": [
    "print(f\"numFollows={numFollows}\")"
   ]
  },
  {
   "cell_type": "markdown",
   "id": "7ce4ae69",
   "metadata": {},
   "source": [
    "## Motif finding"
   ]
  },
  {
   "cell_type": "markdown",
   "id": "cddfd427",
   "metadata": {},
   "source": [
    "Motif finding refers to searching for structural patterns in a graph.\n",
    "\n",
    "GraphFrame motif finding uses a simple Domain-Specific Language (DSL) for expressin structural queries. For example, `graph.find(\"(a)-[e]->(b); (b)-[e2]->(a)\")` will search for pairs of vertices `a,b` connected by edges in both directions. It will return a `DataFrame` of all such structures in the graph, with columns for each of the named elements (vertices or edges) in the motif. In this case, the returned columns will be `\"a, b, e, e2\"`.\n",
    "\n",
    "DSL for expressing structural patterns:\n",
    "\n",
    "* The basic unit of a pattern is an edge. For example, `\"(a)-[e]->(b)\"` expresses an edge `e` from vertex `a` to vertex `b`. Note that vertices are denoted by parentheses `(a)`, while edges are denoted by square brackets `[e]`.\n",
    "* A pattern is expressed as a union of edges. Edge patterns can be joined with semicolons. Motif `\"(a)-[e]->(b); (b)-[e2]->(c)\"` specifies two edges from `a` to `b` to `c`.\n",
    "* Within a pattern, names can be assigned to vertices and edges. For example, `\"(a)-[e]->[b]\"` has three named elements: vertices `a`, `b`, and edge `e`. These names serve two purposes:\n",
    "     * The names can identify common elements among edges. For example, `\"(a)-[e]->(b); (b)-[e2]->(c)\"` specifies that the same vertex is the destination of edge `e` and source of edge `e2`.\n",
    "     * The names are used as column names in the result `DataFrame`. If a motif contains named vertex `a`, then the result `DataFrame` will contain a column `\"a\"` which is a `StructType` with sub-fields equivalent to the schema (columns) of `GraphFrame.vertices`.\n"
   ]
  },
  {
   "cell_type": "code",
   "execution_count": null,
   "id": "3706a6a3",
   "metadata": {},
   "outputs": [],
   "source": []
  },
  {
   "cell_type": "code",
   "execution_count": null,
   "id": "870c3151",
   "metadata": {},
   "outputs": [],
   "source": []
  }
 ],
 "metadata": {
  "kernelspec": {
   "display_name": "Python 3 (ipykernel)",
   "language": "python",
   "name": "python3"
  },
  "language_info": {
   "codemirror_mode": {
    "name": "ipython",
    "version": 3
   },
   "file_extension": ".py",
   "mimetype": "text/x-python",
   "name": "python",
   "nbconvert_exporter": "python",
   "pygments_lexer": "ipython3",
   "version": "3.9.6"
  }
 },
 "nbformat": 4,
 "nbformat_minor": 5
}
