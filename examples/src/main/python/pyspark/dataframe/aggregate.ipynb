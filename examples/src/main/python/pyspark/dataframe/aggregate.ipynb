{
 "cells": [
  {
   "cell_type": "code",
   "execution_count": null,
   "id": "9934ec81",
   "metadata": {},
   "outputs": [],
   "source": [
    "import pyspark\n",
    "from pyspark.sql import SparkSession\n",
    "from pyspark.sql.functions import approx_count_distinct, collect_list\n",
    "from pyspark.sql.functions import collect_set, sum, avg, max, countDistinct, count\n",
    "from pyspark.sql.functions import first, last, kurtosis, min, mean, skewness\n",
    "from pyspark.sql.functions import stddev, stddev_samp, stddev_pop, sumDistinct\n",
    "from pyspark.sql.functions import variance, var_samp, var_pop\n",
    "\n",
    "spark = SparkSession.builder.appName('aggregate_examples').getOrCreae()\n",
    "\n",
    "simpleData = [(\"James\", \"Sales\", 3000),\n",
    "              (\"Michael\", \"Sales\", 4600),\n",
    "              (\"Robert\", \"Sales\", 4100),\n",
    "              (\"Maria\", \"Finance\", 3000),\n",
    "              (\"James\", \"Sales\", 3000),\n",
    "              (\"Scott\", \"Finance\", 3300),\n",
    "              (\"Jen\", \"Finance\", 3900),\n",
    "              (\"Jeff\", \"Marketing\", 3000),\n",
    "              (\"Kumar\", \"marketing\", 2000),\n",
    "              (\"Saif\", \"Sales\", 4100)\n",
    "             ]\n",
    "schema = []"
   ]
  }
 ],
 "metadata": {
  "kernelspec": {
   "display_name": "Python 3 (ipykernel)",
   "language": "python",
   "name": "python3"
  },
  "language_info": {
   "codemirror_mode": {
    "name": "ipython",
    "version": 3
   },
   "file_extension": ".py",
   "mimetype": "text/x-python",
   "name": "python",
   "nbconvert_exporter": "python",
   "pygments_lexer": "ipython3",
   "version": "3.9.6"
  }
 },
 "nbformat": 4,
 "nbformat_minor": 5
}
