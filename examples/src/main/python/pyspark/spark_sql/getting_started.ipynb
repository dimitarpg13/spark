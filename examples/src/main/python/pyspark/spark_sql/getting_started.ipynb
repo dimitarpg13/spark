{
 "cells": [
  {
   "cell_type": "markdown",
   "id": "eff2c32d",
   "metadata": {},
   "source": [
    "# Getting Started\n",
    "\n",
    "## Starting Point: SparkSession\n",
    "\n",
    "The entry point into all functionality in Spark is the `SparkSession` class. To create a basic `SparkSession`, just use `SparkSession.builder`:"
   ]
  },
  {
   "cell_type": "code",
   "execution_count": null,
   "id": "8cf388ea",
   "metadata": {},
   "outputs": [],
   "source": [
    "from pyspark.sql import SparkSession\n",
    "\n",
    "spark = SparkSession \\\n",
    "    .builder \\\n",
    "    .appName(\"Python Spark SQL basic example\") \\\n",
    "    .config(\"spark.some\")"
   ]
  }
 ],
 "metadata": {
  "kernelspec": {
   "display_name": "Python 3 (ipykernel)",
   "language": "python",
   "name": "python3"
  },
  "language_info": {
   "codemirror_mode": {
    "name": "ipython",
    "version": 3
   },
   "file_extension": ".py",
   "mimetype": "text/x-python",
   "name": "python",
   "nbconvert_exporter": "python",
   "pygments_lexer": "ipython3",
   "version": "3.9.6"
  }
 },
 "nbformat": 4,
 "nbformat_minor": 5
}
